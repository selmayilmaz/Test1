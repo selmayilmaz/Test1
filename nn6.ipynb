{
 "cells": [
  {
   "cell_type": "code",
   "execution_count": 75,
   "metadata": {
    "id": "TNliGyghyDS8"
   },
   "outputs": [],
   "source": [
    "import numpy as np\n",
    "import math\n",
    "import pandas as pd\n",
    "import matplotlib.pyplot as plt\n",
    "from sklearn.metrics import mean_absolute_error"
   ]
  },
  {
   "cell_type": "code",
   "execution_count": 76,
   "metadata": {
    "id": "z7e9aSGKtgN-"
   },
   "outputs": [],
   "source": [
    "class Perceptron(object):\n",
    "    def __init__(self, input_size, lr=1, max_iter=100):\n",
    "        self.W = np.zeros(input_size+1)\n",
    "        self.epochs = max_iter\n",
    "        self.lr = lr\n",
    "    \n",
    "    def activation_fn(self, x):\n",
    "        return 1 if x >= 0 else 0\n",
    "        # sig = 1 / (1 + math.exp(-x))\n",
    "        # return sig\n",
    "    def predict(self, x):\n",
    "        z = self.W.T.dot(x)\n",
    "        a = self.activation_fn(z)\n",
    "        return a\n",
    "    def fit(self, X, d,error,accuracy):\n",
    "        for _ in range(self.epochs):\n",
    "            acc=[]\n",
    "            ylist=[]\n",
    "            for i in range(d.shape[0]):\n",
    "                x = np.insert(X[i], 0, 1)\n",
    "                y = self.predict(x)\n",
    "                e = d[i] - y\n",
    "                self.W = self.W + self.lr * e * x\n",
    "                b=int(d[i]==y)\n",
    "                acc.append(b)\n",
    "                ylist.append(y)\n",
    "            count=0\n",
    "            for i in acc:\n",
    "                count=count+i\n",
    "            score=count/len(acc)\n",
    "            err=mean_absolute_error(d, ylist)\n",
    "            error.append(err)\n",
    "            accuracy.append(score)\n",
    "            "
   ]
  },
  {
   "cell_type": "code",
   "execution_count": 77,
   "metadata": {
    "id": "0pXGVDFtu0LC"
   },
   "outputs": [],
   "source": [
    "df = pd.read_csv('sample_data/mnist_train_small.csv')\n",
    "X_train, y_train = df.drop('5', axis=1), df['5']\n",
    "X_train=X_train.to_numpy()\n",
    "y_train=y_train.to_numpy()\n",
    "from sklearn.neural_network import MLPClassifier\n",
    "test = pd.read_csv('sample_data/mnist_test.csv')\n",
    "X_test, y_test = test.drop('7', axis=1), test['7']\n",
    "X_test=X_test.to_numpy()\n",
    "y_test=y_test.to_numpy()\n",
    "from sklearn import datasets\n",
    "X, y = datasets.load_digits(return_X_y=True)\n",
    "from sklearn.model_selection import train_test_split\n",
    "X_train, X_test, y_train, y_test = train_test_split(X, y, random_state=0)\n",
    "# print(X_test[0])\n"
   ]
  },
  {
   "cell_type": "code",
   "execution_count": 77,
   "metadata": {
    "id": "AwCujT1nAfmW"
   },
   "outputs": [],
   "source": [
    "\n"
   ]
  },
  {
   "cell_type": "code",
   "execution_count": 78,
   "metadata": {
    "colab": {
     "base_uri": "https://localhost:8080/"
    },
    "id": "ALNRJ1cHvpCa",
    "outputId": "994ab5d0-8fb9-4ecd-eb59-daf6b9e9737e"
   },
   "outputs": [
    {
     "name": "stderr",
     "output_type": "stream",
     "text": [
      "/usr/local/lib/python3.7/dist-packages/sklearn/neural_network/_multilayer_perceptron.py:696: ConvergenceWarning: Stochastic Optimizer: Maximum iterations (200) reached and the optimization hasn't converged yet.\n",
      "  ConvergenceWarning,\n"
     ]
    }
   ],
   "source": [
    "max_iter= 30\n",
    "error = []\n",
    "accuracy=[]\n",
    "clf=Perceptron(input_size=784,max_iter=1)\n",
    "\n",
    "clf = MLPClassifier(hidden_layer_sizes=(300, 100, 10), solver=\"sgd\", random_state=0).fit(X_train, y_train)"
   ]
  },
  {
   "cell_type": "code",
   "execution_count": 79,
   "metadata": {
    "colab": {
     "base_uri": "https://localhost:8080/",
     "height": 283
    },
    "id": "Hs25KAn8xuIj",
    "outputId": "5b132ccb-7e22-4dea-965f-fec8b7403d40"
   },
   "outputs": [
    {
     "data": {
      "image/png": "[encoded data removed]",
      "text/plain": [
       "<Figure size 432x288 with 1 Axes>"
      ]
     },
     "metadata": {
      "needs_background": "light"
     },
     "output_type": "display_data"
    }
   ],
   "source": [
    "plt.plot(range(clf.n_iter_), clf.loss_curve_)\n",
    "plt.xlabel(\"epoch\")\n",
    "plt.ylabel(\"loss\")\n",
    "plt.show()"
   ]
  }
 ],
 "metadata": {
  "colab": {
   "collapsed_sections": [],
   "name": "nn6.ipynb",
   "provenance": []
  },
  "kernelspec": {
   "display_name": "Python 3",
   "language": "python",
   "name": "python3"
  },
  "language_info": {
   "codemirror_mode": {
    "name": "ipython",
    "version": 3
   },
   "file_extension": ".py",
   "mimetype": "text/x-python",
   "name": "python",
   "nbconvert_exporter": "python",
   "pygments_lexer": "ipython3",
   "version": "3.8.8"
  }
 },
 "nbformat": 4,
 "nbformat_minor": 1
}
